{
  "nbformat": 4,
  "nbformat_minor": 0,
  "metadata": {
    "colab": {
      "provenance": [],
      "authorship_tag": "ABX9TyMx4HbCSaMYAFpixUIjZGeo",
      "include_colab_link": true
    },
    "kernelspec": {
      "name": "python3",
      "display_name": "Python 3"
    },
    "language_info": {
      "name": "python"
    }
  },
  "cells": [
    {
      "cell_type": "markdown",
      "metadata": {
        "id": "view-in-github",
        "colab_type": "text"
      },
      "source": [
        "<a href=\"https://colab.research.google.com/github/Hamza97d/EpicodeHamza/blob/main/BuildWeekFinal/ReportClimateChange.ipynb\" target=\"_parent\"><img src=\"https://colab.research.google.com/assets/colab-badge.svg\" alt=\"Open In Colab\"/></a>"
      ]
    },
    {
      "cell_type": "markdown",
      "source": [
        "\n",
        "<img src=\"https://e3.365dm.com/19/05/2048x1152/skynews-climate-change-power_4655901.jpg?20190501153807\" alt=\"Emissioni\" width=\"60%\" />\n",
        "\n",
        "# **Analisi sul Cambiamento Climatico e le Emissioni di CO2**\n",
        "### **Introduzione**\n",
        "\n",
        "Il presente report sottolinea l'analisi finale condotta durante la Build Week sul tema del cambiamento climatico, con un focus specifico sulle emissioni di biossido di carbonio (CO2). I dataset utilizzati per questo progetto provengono da fonti autorevoli, con il Dataset CO2 disponibile su GitHub [CO2 Dataset](https://github.com/gyleodhis/owid_co2_data) e il Dataset sulle temperature fornito da [Kaggle Temperature Dataset](https://www.kaggle.com/datasets/berkeleyearth/climate-change-earth-surface-temperature-data).\n",
        "\n",
        "### **Dataset Analizzati**\n",
        "\n",
        "Il Dataset sulle emissioni di CO2 offre una vasta gamma di dati relativi alle emissioni di CO2 in tutte le nazioni del mondo (dal 1900 al 2022), includendo informazioni aggiuntive come la popolazione totale e il PIL di ciascuna nazione. Allo stesso modo, il Dataset sulle temperature fornisce misurazioni delle temperature in tutto il mondo.\n",
        "\n",
        "### **Obiettivo del Progetto**\n",
        "\n",
        "L'obiettivo primario di questo progetto è analizzare le emissioni di CO2 nelle diverse regioni del mondo e identificare le possibili cause che hanno influenzato tali emissioni. Quest'analisi mira a fornire insight significativi in modo che i policy maker, ricercatori e imprese possano adottare misure concrete per affrontare il problema climatico.\n",
        "\n",
        "<img src=\"https://deeptechbytes.com/wp-content/uploads/2021/05/data-analytics-trends.jpg\" alt=\"Emissioni\" width=\"60%\" />\n",
        "\n",
        "\n",
        "### **Processo di Analisi**\n",
        "\n",
        "Durante il processo di pulizia e formattazione del dataset CO2, inizialmente composto da 48,058 righe e 79 colonne, è stata condotta un'attenta selezione. Il dataset risultante conta ora 40,185 righe e 40 colonne, eliminando le colonne non rilevanti e quelle con una percentuale di valori nulli superiore al 90%. Le chiavi di conoscenza del dataset includono informazioni sulle nazioni, continenti, emissioni di CO2 (suddivise tra carbone, petrolio e gas), variazioni di temperatura e indicatori economici come il PIL e la popolazione.\n"
      ],
      "metadata": {
        "id": "NNXnK4jBql0O"
      }
    },
    {
      "cell_type": "code",
      "source": [
        "import pandas as pd\n",
        "\n",
        "# Qui ho voluto creare una funzione che mi considerasse i valori di \"iso_code\" è restituisca il corispondente continente\n",
        "def get_continent(iso_code):\n",
        "    if iso_code in [\"BMU\", \"CAN\", \"GRL\", \"MEX\", \"PRI\", \"USA\"]:\n",
        "        return \"North America\"\n",
        "    elif iso_code in [\"ARG\", \"BOL\", \"BRA\", \"CHL\", \"COL\", \"ECU\", \"GUY\", \"PRY\", \"PER\", \"SUR\", \"URY\", \"VEN\"]:\n",
        "        return \"South America\"\n",
        "    elif iso_code in [\"ALB\", \"AND\", \"AUT\", \"BLR\", \"BEL\", \"BIH\", \"BGR\", \"HRV\", \"CYP\", \"CZE\", \"DNK\", \"EST\", \"FIN\", \"FRA\", \"GEO\", \"DEU\", \"GRC\", \"HUN\", \"ISL\", \"IRL\", \"ITA\", \"KAZ\", \"KOS\", \"LVA\", \"LIE\", \"LTU\", \"LUX\", \"MLT\", \"MDA\", \"MCO\", \"MNE\", \"NLD\", \"MKD\", \"NOR\", \"POL\", \"PRT\", \"ROU\", \"RUS\", \"SMR\", \"SRB\", \"SVK\", \"SVN\", \"ESP\", \"SWE\", \"CHE\", \"TUR\", \"UKR\", \"GBR\", \"VAT\"]:\n",
        "        return \"Europe\"\n",
        "    elif iso_code in [\"AFG\", \"ARM\", \"AZE\", \"BHR\", \"BGD\", \"BTN\", \"BRN\", \"KHM\", \"CHN\", \"GEO\", \"HKG\", \"IND\", \"IDN\", \"IRN\", \"IRQ\", \"ISR\", \"JPN\", \"JOR\", \"KAZ\", \"KWT\", \"KGZ\", \"LAO\", \"LBN\", \"MAC\", \"MYS\", \"MDV\", \"MNG\", \"MMR\", \"NPL\", \"PRK\", \"OMN\", \"PAK\", \"PSE\", \"PHL\", \"QAT\", \"SAU\", \"SGP\", \"KOR\", \"LKA\", \"SYR\", \"TWN\", \"TJK\", \"THA\", \"TUR\", \"TKM\", \"ARE\", \"UZB\", \"VNM\", \"YEM\"]:\n",
        "        return \"Asia\"\n",
        "    elif iso_code in [\"DZA\", \"AGO\", \"BEN\", \"BWA\", \"BFA\", \"BDI\", \"CPV\", \"CMR\", \"CAF\", \"TCD\", \"COM\", \"COG\", \"CIV\", \"DJI\", \"EGY\", \"GNQ\", \"ERI\", \"SWZ\", \"ETH\", \"GAB\", \"GMB\", \"GHA\", \"GIN\", \"GNB\", \"KEN\", \"LSO\", \"LBR\", \"LBY\", \"MDG\", \"MWI\", \"MLI\", \"MRT\", \"MUS\", \"MAR\", \"MOZ\", \"NAM\", \"NER\", \"NGA\", \"RWA\", \"STP\", \"SEN\", \"SYC\", \"SLE\", \"SOM\", \"ZAF\", \"SSD\", \"SDN\", \"TAN\", \"TGO\", \"TUN\", \"UGA\", \"ZMB\", \"ZWE\"]:\n",
        "        return \"Africa\"\n",
        "    elif iso_code in [\"AUS\", \"FJI\", \"KIR\", \"MHL\", \"FSM\", \"NRU\", \"NZL\", \"PLW\", \"PNG\", \"WSM\", \"SLB\", \"TON\", \"TUV\", \"VUT\"]:\n",
        "        return \"Oceania\"\n",
        "    else:\n",
        "        return \"Unknown\"\n",
        "\n",
        "\n",
        "co2_url = 'https://raw.githubusercontent.com/owid/co2-data/master/owid-co2-data.csv'\n",
        "df = pd.read_csv(co2_url)\n",
        "df[\"Continent\"] = df[\"iso_code\"].apply(get_continent)\n",
        "\n",
        "print(df[['iso_code','Continent']])\n"
      ],
      "metadata": {
        "colab": {
          "base_uri": "https://localhost:8080/"
        },
        "id": "snoJDymD2Crj",
        "outputId": "183848a7-721e-4fd4-f8b8-02e523e0dfc8"
      },
      "execution_count": 6,
      "outputs": [
        {
          "output_type": "stream",
          "name": "stdout",
          "text": [
            "      iso_code Continent\n",
            "0          AFG      Asia\n",
            "1          AFG      Asia\n",
            "2          AFG      Asia\n",
            "3          AFG      Asia\n",
            "4          AFG      Asia\n",
            "...        ...       ...\n",
            "48053      ZWE    Africa\n",
            "48054      ZWE    Africa\n",
            "48055      ZWE    Africa\n",
            "48056      ZWE    Africa\n",
            "48057      ZWE    Africa\n",
            "\n",
            "[48058 rows x 2 columns]\n"
          ]
        }
      ]
    },
    {
      "cell_type": "code",
      "source": [
        "import pandas as pd\n",
        "\n",
        "#qui ho creato una nuova funzione che mi suddivide i valori di \"dt\" in 4 stagioni\n",
        "df = pd.read_csv('globalT.csv')\n",
        "\n",
        "df['dt'] = pd.to_datetime(df['dt'])\n",
        "\n",
        "def get_season(month):\n",
        "    if 3 <= month <= 5:\n",
        "        return 'Primavera'\n",
        "    elif 6 <= month <= 8:\n",
        "        return 'Estate'\n",
        "    elif 9 <= month <= 11:\n",
        "        return 'Autunno'\n",
        "    else:\n",
        "        return 'Inverno'\n",
        "\n",
        "\n",
        "df['Season'] = df['dt'].dt.month.map(get_season)\n",
        "\n",
        "df.to_csv('updated_globalT.csv', index=False)\n"
      ],
      "metadata": {
        "id": "qw2jKS6d5T5b"
      },
      "execution_count": null,
      "outputs": []
    },
    {
      "cell_type": "markdown",
      "source": [
        "### **Analisi Globale delle Emissioni di CO2**\n",
        "\n",
        "\n",
        "In questa approfondita analisi, poniamo l'attenzione sulle emissioni di CO2 a livello mondiale, focalizzandoci principalmente sulle tre categorie predominanti: carbone, petrolio e gas. L'obiettivo centrale è rivelare le correlazioni nel tempo tra le emissioni di anidride carbonica, lo sviluppo economico, l'aumento demografico e le variazioni climatiche. Questo approccio fornirà un quadro completo delle dinamiche in atto, consentendo ai decisori politici, ricercatori e aziende di sviluppare strategie mirate per mitigare l'impatto del cambiamento climatico.\n",
        "\n",
        "### **Creazione della Dashboard:**\n",
        "Per ottimizzare la comprensione dei dati, abbiamo implementato una dashboard interattiva su Power BI. Questo strumento offre una visualizzazione chiara e intuitiva delle tendenze nel tempo, fornendo un'analisi più approfondita delle dinamiche delle emissioni di CO2.\n",
        "\n",
        "**In conclusione,** grazie alle modifiche apportate e all'implementazione della dashboard, siamo in grado di visualizzare in modo chiaro e dettagliato l'evoluzione nel tempo. Questo contributo si rivela essenziale nell'ambito dell'analisi del cambiamento climatico, evidenziando le intricate relazioni tra le emissioni di CO2 e i fattori chiave. Le informazioni così ottenute sono fondamentali per sviluppare soluzioni sostenibili e affrontare le sfide ambientali globali con proattività e consapevolezza.\n",
        "\n",
        "<img src=\"https://th.bing.com/th/id/R.b291e1d37601c94fa65491b27aad27e5?rik=IPdPcOdlxxc4kg&riu=http%3a%2f%2fareacomunicazione.policlinico.unina.it%2fwp-content%2fuploads%2f2020%2f12%2fGrazie-stile.png&ehk=diaBHqN5zTy0sbn28T6aEtJSy1OMD9q%2bV0XlCErrB7o%3d&risl=&pid=ImgRaw&r=0\" alt=\"Emissioni\" width=\"70%\" />\n",
        "\n",
        "\n",
        "##Hamza Mahmoudi"
      ],
      "metadata": {
        "id": "oSwXvKGq55WJ"
      }
    }
  ]
}